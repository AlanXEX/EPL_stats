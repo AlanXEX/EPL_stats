{
 "cells": [
  {
   "cell_type": "markdown",
   "metadata": {},
   "source": [
    "# EPL_stats"
   ]
  },
  {
   "cell_type": "markdown",
   "metadata": {},
   "source": [
    "## Introduction\n",
    "I choose an England Premier League home/away games stats from 2006 to 2017. I have choosen this topic, because it is very interesting how English teams could play home and away games. It is hard to play away games, because there are no your fans and you have travelled some road and so on. Football is very interesting game, and each result has consequences on a table and how the game goes in next week. Also, it is very important what is going on inside the team, because it can affect on players' mood, players' efficiency and their readiness for matches. There is the data in two separate tables with the results of the Premier League football matches taken in the period from 2006 to 2018. In both tables ‘teams’ is taken as a primary key so the data from the tables is connected to the ‘teams’. In the first table, which is called results.csv, the first two columns include names of the home teams and away teams, i.e. football teams that played in a certain match. Next two columns present the information about the number of goals scored separately by the home team and the away team. The fifth column is called ‘result’ and includes information about the winner of a certain match - ‘H’ for home team, ‘A’ for away team and ‘D’ for draw. Finally, the last column presents the season, in other words period, in which the match was taken. The second table - stats.cvs, represents data about the results for a certain football team. The first column includes names of each team, and the next three columns represent the data about the number of their wins, losses and total goals scored. The fifth and sixth columns include data with the number of received in total yellow and red cards respectively. The next three columns demonstrate the number of total shots, shots on target and shots that hit bar/post/woodwork. The following six columns represent the total number of goals from headers, goals from penalties, goals from free-kicks, goals from inside and outside the box and goals from counter attacks. Then there is a column that includes the total number of offsides, and the following column represents the number of clean sheets. Finally, the last column demonstrates the data of total goals conceded. I want to research 5 main questions for me. Is it harder to play away, or at home? Where teams most likely to loose their game? Does their series of wins affect on their upcoming matches? What is more effective game style? What is more important, scoring more goals, or missing less?"
   ]
  },
  {
   "cell_type": "code",
   "execution_count": null,
   "metadata": {},
   "outputs": [],
   "source": []
  }
 ],
 "metadata": {
  "kernelspec": {
   "display_name": "Python 3",
   "language": "python",
   "name": "python3"
  },
  "language_info": {
   "codemirror_mode": {
    "name": "ipython",
    "version": 3
   },
   "file_extension": ".py",
   "mimetype": "text/x-python",
   "name": "python",
   "nbconvert_exporter": "python",
   "pygments_lexer": "ipython3",
   "version": "3.8.3"
  }
 },
 "nbformat": 4,
 "nbformat_minor": 4
}
